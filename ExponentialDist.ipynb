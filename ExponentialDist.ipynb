{
 "cells": [
  {
   "cell_type": "code",
   "execution_count": 1,
   "metadata": {},
   "outputs": [],
   "source": [
    "class ExponentialDist(object):\n",
    "    def __init__(self,exponentialLambda, randomVarX):\n",
    "        self.__exponentialLambda = exponentialLambda\n",
    "        self.__randomVarX = randomVarX\n",
    "    \n",
    "    def stepFunction(self,randomVarX):\n",
    "        return max(0,randomVarX) / randomVarX\n",
    "    \n",
    "    def exponentialCDF(self):\n",
    "        import numpy as np\n",
    "        u_x = self.stepFunction(self.__randomVarX)\n",
    "        return (1 - np.exp(-self.__exponentialLambda*self.__randomVarX))*u_x\n",
    "    \n",
    "    def exponentialPDF(self):\n",
    "        import numpy as np\n",
    "        u_x = self.stepFunction(self.__randomVarX)\n",
    "        return self.__exponentialLambda*np.exp(-self.__exponentialLambda*self.__randomVarX)*u_x\n",
    "    \n",
    "    def makeExponentialPDF(self, dataSampleNumber):\n",
    "        from scipy.stats import expon\n",
    "        sample = dataSampleNumber\n",
    "        start = 1 / self.__exponentialLambda\n",
    "        variance =  1 / (self.__exponentialLambda**2)\n",
    "        return expon.rvs(scale=variance, loc=start, size=sample)"
   ]
  },
  {
   "cell_type": "code",
   "execution_count": 2,
   "metadata": {},
   "outputs": [],
   "source": [
    "import seaborn as sns\n",
    "import gc"
   ]
  },
  {
   "cell_type": "code",
   "execution_count": 3,
   "metadata": {},
   "outputs": [],
   "source": [
    "exponentialData = ExponentialDist(2,0.8)"
   ]
  },
  {
   "cell_type": "code",
   "execution_count": 4,
   "metadata": {},
   "outputs": [
    {
     "name": "stdout",
     "output_type": "stream",
     "text": [
      "CDF:  0.7981034820053446\n",
      "PDF:  0.40379303598931077\n"
     ]
    }
   ],
   "source": [
    "print(\"CDF: \",exponentialData.exponentialCDF())\n",
    "print(\"PDF: \",exponentialData.exponentialPDF())"
   ]
  },
  {
   "cell_type": "code",
   "execution_count": 5,
   "metadata": {},
   "outputs": [
    {
     "data": {
      "text/plain": [
       "17"
      ]
     },
     "execution_count": 5,
     "metadata": {},
     "output_type": "execute_result"
    },
    {
     "data": {
      "image/png": "[encoded data removed]",
      "text/plain": [
       "<Figure size 432x288 with 1 Axes>"
      ]
     },
     "metadata": {
      "needs_background": "light"
     },
     "output_type": "display_data"
    }
   ],
   "source": [
    "exponentialDataArray = exponentialData.makeExponentialPDF(1000000)\n",
    "ax = sns.distplot(exponentialDataArray, bins=100)\n",
    "ax.set(xlabel='Exponential Distribution', ylabel='Frequency')\n",
    "gc.collect()"
   ]
  }
 ],
 "metadata": {
  "kernelspec": {
   "display_name": "Python 3",
   "language": "python",
   "name": "python3"
  },
  "language_info": {
   "codemirror_mode": {
    "name": "ipython",
    "version": 3
   },
   "file_extension": ".py",
   "mimetype": "text/x-python",
   "name": "python",
   "nbconvert_exporter": "python",
   "pygments_lexer": "ipython3",
   "version": "3.6.8"
  }
 },
 "nbformat": 4,
 "nbformat_minor": 2
}
